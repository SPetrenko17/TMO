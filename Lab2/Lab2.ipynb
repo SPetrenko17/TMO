{
 "cells": [
  {
   "cell_type": "markdown",
   "metadata": {},
   "source": [
    "# ЛР №2"
   ]
  },
  {
   "cell_type": "markdown",
   "metadata": {},
   "source": [
    "### Импорт библиотек"
   ]
  },
  {
   "cell_type": "code",
   "execution_count": 1,
   "metadata": {
    "pycharm": {
     "is_executing": false
    }
   },
   "outputs": [],
   "source": [
    "import numpy as np\n",
    "import pandas as pd\n",
    "import seaborn as sns\n",
    "import matplotlib.pyplot as plt\n",
    "from pandas.plotting import scatter_matrix\n",
    "import warnings\n",
    "warnings.filterwarnings('ignore')\n",
    "sns.set(style=\"ticks\")\n",
    "%matplotlib inline"
   ]
  },
  {
   "cell_type": "code",
   "execution_count": 2,
   "metadata": {
    "pycharm": {
     "is_executing": false
    }
   },
   "outputs": [],
   "source": [
    "data = pd.read_csv('country_vaccinations.csv')"
   ]
  },
  {
   "cell_type": "code",
   "execution_count": 3,
   "metadata": {
    "pycharm": {
     "is_executing": false
    }
   },
   "outputs": [
    {
     "data": {
      "text/plain": "   country iso_code        date  total_vaccinations  people_vaccinated  \\\n0  Albania      ALB  2021-01-10                 0.0                0.0   \n1  Albania      ALB  2021-01-11                 NaN                NaN   \n2  Albania      ALB  2021-01-12               128.0              128.0   \n3  Albania      ALB  2021-01-13               188.0              188.0   \n4  Albania      ALB  2021-01-14               266.0              266.0   \n\n   people_fully_vaccinated  daily_vaccinations_raw  daily_vaccinations  \\\n0                      NaN                     NaN                 NaN   \n1                      NaN                     NaN                64.0   \n2                      NaN                     NaN                64.0   \n3                      NaN                    60.0                63.0   \n4                      NaN                    78.0                66.0   \n\n   total_vaccinations_per_hundred  people_vaccinated_per_hundred  \\\n0                            0.00                           0.00   \n1                             NaN                            NaN   \n2                            0.00                           0.00   \n3                            0.01                           0.01   \n4                            0.01                           0.01   \n\n   people_fully_vaccinated_per_hundred  daily_vaccinations_per_million  \\\n0                                  NaN                             NaN   \n1                                  NaN                            22.0   \n2                                  NaN                            22.0   \n3                                  NaN                            22.0   \n4                                  NaN                            23.0   \n\n          vaccines         source_name  \\\n0  Pfizer/BioNTech  Ministry of Health   \n1  Pfizer/BioNTech  Ministry of Health   \n2  Pfizer/BioNTech  Ministry of Health   \n3  Pfizer/BioNTech  Ministry of Health   \n4  Pfizer/BioNTech  Ministry of Health   \n\n                                      source_website  \n0  https://shendetesia.gov.al/covid19-ministria-e...  \n1  https://shendetesia.gov.al/covid19-ministria-e...  \n2  https://shendetesia.gov.al/covid19-ministria-e...  \n3  https://shendetesia.gov.al/covid19-ministria-e...  \n4  https://shendetesia.gov.al/covid19-ministria-e...  ",
      "text/html": "<div>\n<style scoped>\n    .dataframe tbody tr th:only-of-type {\n        vertical-align: middle;\n    }\n\n    .dataframe tbody tr th {\n        vertical-align: top;\n    }\n\n    .dataframe thead th {\n        text-align: right;\n    }\n</style>\n<table border=\"1\" class=\"dataframe\">\n  <thead>\n    <tr style=\"text-align: right;\">\n      <th></th>\n      <th>country</th>\n      <th>iso_code</th>\n      <th>date</th>\n      <th>total_vaccinations</th>\n      <th>people_vaccinated</th>\n      <th>people_fully_vaccinated</th>\n      <th>daily_vaccinations_raw</th>\n      <th>daily_vaccinations</th>\n      <th>total_vaccinations_per_hundred</th>\n      <th>people_vaccinated_per_hundred</th>\n      <th>people_fully_vaccinated_per_hundred</th>\n      <th>daily_vaccinations_per_million</th>\n      <th>vaccines</th>\n      <th>source_name</th>\n      <th>source_website</th>\n    </tr>\n  </thead>\n  <tbody>\n    <tr>\n      <th>0</th>\n      <td>Albania</td>\n      <td>ALB</td>\n      <td>2021-01-10</td>\n      <td>0.0</td>\n      <td>0.0</td>\n      <td>NaN</td>\n      <td>NaN</td>\n      <td>NaN</td>\n      <td>0.00</td>\n      <td>0.00</td>\n      <td>NaN</td>\n      <td>NaN</td>\n      <td>Pfizer/BioNTech</td>\n      <td>Ministry of Health</td>\n      <td>https://shendetesia.gov.al/covid19-ministria-e...</td>\n    </tr>\n    <tr>\n      <th>1</th>\n      <td>Albania</td>\n      <td>ALB</td>\n      <td>2021-01-11</td>\n      <td>NaN</td>\n      <td>NaN</td>\n      <td>NaN</td>\n      <td>NaN</td>\n      <td>64.0</td>\n      <td>NaN</td>\n      <td>NaN</td>\n      <td>NaN</td>\n      <td>22.0</td>\n      <td>Pfizer/BioNTech</td>\n      <td>Ministry of Health</td>\n      <td>https://shendetesia.gov.al/covid19-ministria-e...</td>\n    </tr>\n    <tr>\n      <th>2</th>\n      <td>Albania</td>\n      <td>ALB</td>\n      <td>2021-01-12</td>\n      <td>128.0</td>\n      <td>128.0</td>\n      <td>NaN</td>\n      <td>NaN</td>\n      <td>64.0</td>\n      <td>0.00</td>\n      <td>0.00</td>\n      <td>NaN</td>\n      <td>22.0</td>\n      <td>Pfizer/BioNTech</td>\n      <td>Ministry of Health</td>\n      <td>https://shendetesia.gov.al/covid19-ministria-e...</td>\n    </tr>\n    <tr>\n      <th>3</th>\n      <td>Albania</td>\n      <td>ALB</td>\n      <td>2021-01-13</td>\n      <td>188.0</td>\n      <td>188.0</td>\n      <td>NaN</td>\n      <td>60.0</td>\n      <td>63.0</td>\n      <td>0.01</td>\n      <td>0.01</td>\n      <td>NaN</td>\n      <td>22.0</td>\n      <td>Pfizer/BioNTech</td>\n      <td>Ministry of Health</td>\n      <td>https://shendetesia.gov.al/covid19-ministria-e...</td>\n    </tr>\n    <tr>\n      <th>4</th>\n      <td>Albania</td>\n      <td>ALB</td>\n      <td>2021-01-14</td>\n      <td>266.0</td>\n      <td>266.0</td>\n      <td>NaN</td>\n      <td>78.0</td>\n      <td>66.0</td>\n      <td>0.01</td>\n      <td>0.01</td>\n      <td>NaN</td>\n      <td>23.0</td>\n      <td>Pfizer/BioNTech</td>\n      <td>Ministry of Health</td>\n      <td>https://shendetesia.gov.al/covid19-ministria-e...</td>\n    </tr>\n  </tbody>\n</table>\n</div>"
     },
     "metadata": {},
     "output_type": "execute_result",
     "execution_count": 3
    }
   ],
   "source": [
    "data.head()"
   ]
  },
  {
   "cell_type": "code",
   "execution_count": 4,
   "metadata": {
    "pycharm": {
     "is_executing": false
    }
   },
   "outputs": [
    {
     "data": {
      "text/plain": "country                                 object\niso_code                                object\ndate                                    object\ntotal_vaccinations                     float64\npeople_vaccinated                      float64\npeople_fully_vaccinated                float64\ndaily_vaccinations_raw                 float64\ndaily_vaccinations                     float64\ntotal_vaccinations_per_hundred         float64\npeople_vaccinated_per_hundred          float64\npeople_fully_vaccinated_per_hundred    float64\ndaily_vaccinations_per_million         float64\nvaccines                                object\nsource_name                             object\nsource_website                          object\ndtype: object"
     },
     "metadata": {},
     "output_type": "execute_result",
     "execution_count": 4
    }
   ],
   "source": [
    "data.dtypes"
   ]
  },
  {
   "cell_type": "code",
   "execution_count": 5,
   "metadata": {
    "pycharm": {
     "is_executing": false
    }
   },
   "outputs": [
    {
     "data": {
      "text/plain": "country                                   0\niso_code                                272\ndate                                      0\ntotal_vaccinations                     1214\npeople_vaccinated                      1615\npeople_fully_vaccinated                2277\ndaily_vaccinations_raw                 1583\ndaily_vaccinations                      135\ntotal_vaccinations_per_hundred         1214\npeople_vaccinated_per_hundred          1615\npeople_fully_vaccinated_per_hundred    2277\ndaily_vaccinations_per_million          135\nvaccines                                  0\nsource_name                               0\nsource_website                            0\ndtype: int64"
     },
     "metadata": {},
     "output_type": "execute_result",
     "execution_count": 5
    }
   ],
   "source": [
    "data.isnull().sum()\n",
    "# проверим есть ли пропущенные значения"
   ]
  },
  {
   "cell_type": "code",
   "execution_count": 6,
   "metadata": {
    "pycharm": {
     "is_executing": false
    }
   },
   "outputs": [
    {
     "name": "stdout",
     "text": [
      "<class 'pandas.core.frame.DataFrame'>\nRangeIndex: 3555 entries, 0 to 3554\nData columns (total 15 columns):\ncountry                                3555 non-null object\niso_code                               3283 non-null object\ndate                                   3555 non-null object\ntotal_vaccinations                     2341 non-null float64\npeople_vaccinated                      1940 non-null float64\npeople_fully_vaccinated                1278 non-null float64\ndaily_vaccinations_raw                 1972 non-null float64\ndaily_vaccinations                     3420 non-null float64\ntotal_vaccinations_per_hundred         2341 non-null float64\npeople_vaccinated_per_hundred          1940 non-null float64\npeople_fully_vaccinated_per_hundred    1278 non-null float64\ndaily_vaccinations_per_million         3420 non-null float64\nvaccines                               3555 non-null object\nsource_name                            3555 non-null object\nsource_website                         3555 non-null object\ndtypes: float64(9), object(6)\nmemory usage: 416.7+ KB\n"
     ],
     "output_type": "stream"
    }
   ],
   "source": [
    "data.info()"
   ]
  },
  {
   "cell_type": "markdown",
   "metadata": {},
   "source": [
    "### Обработка пропусков"
   ]
  },
  {
   "cell_type": "code",
   "execution_count": 7,
   "metadata": {
    "pycharm": {
     "is_executing": false
    }
   },
   "outputs": [],
   "source": [
    "# Удаляем столбцы, которые не несут значимой информации\n",
    "data.drop(['source_name','source_website'], axis = 1, inplace = True)"
   ]
  },
  {
   "cell_type": "code",
   "execution_count": 8,
   "metadata": {
    "pycharm": {
     "is_executing": false
    }
   },
   "outputs": [
    {
     "name": "stdout",
     "text": [
      "<class 'pandas.core.frame.DataFrame'>\nRangeIndex: 3555 entries, 0 to 3554\nData columns (total 13 columns):\ncountry                                3555 non-null object\niso_code                               3283 non-null object\ndate                                   3555 non-null object\ntotal_vaccinations                     2341 non-null float64\npeople_vaccinated                      1940 non-null float64\npeople_fully_vaccinated                1278 non-null float64\ndaily_vaccinations_raw                 1972 non-null float64\ndaily_vaccinations                     3420 non-null float64\ntotal_vaccinations_per_hundred         2341 non-null float64\npeople_vaccinated_per_hundred          1940 non-null float64\npeople_fully_vaccinated_per_hundred    1278 non-null float64\ndaily_vaccinations_per_million         3420 non-null float64\nvaccines                               3555 non-null object\ndtypes: float64(9), object(4)\nmemory usage: 361.2+ KB\n"
     ],
     "output_type": "stream"
    }
   ],
   "source": [
    "data.info()"
   ]
  },
  {
   "cell_type": "code",
   "execution_count": 9,
   "metadata": {
    "pycharm": {
     "is_executing": false
    }
   },
   "outputs": [],
   "source": [
    "# Заполняем отсутствующие значения \n",
    "data['total_vaccinations'] = data['total_vaccinations'].replace(0,np.nan)\n",
    "data['total_vaccinations'] = data['total_vaccinations'].fillna(data['total_vaccinations'].mean())"
   ]
  },
  {
   "cell_type": "code",
   "execution_count": 10,
   "metadata": {
    "pycharm": {
     "is_executing": false
    }
   },
   "outputs": [
    {
     "data": {
      "text/plain": "   country iso_code        date  total_vaccinations  people_vaccinated  \\\n0  Albania      ALB  2021-01-10        1.508878e+06                0.0   \n1  Albania      ALB  2021-01-11        1.508878e+06                NaN   \n2  Albania      ALB  2021-01-12        1.280000e+02              128.0   \n3  Albania      ALB  2021-01-13        1.880000e+02              188.0   \n4  Albania      ALB  2021-01-14        2.660000e+02              266.0   \n\n   people_fully_vaccinated  daily_vaccinations_raw  daily_vaccinations  \\\n0                      NaN                     NaN                 NaN   \n1                      NaN                     NaN                64.0   \n2                      NaN                     NaN                64.0   \n3                      NaN                    60.0                63.0   \n4                      NaN                    78.0                66.0   \n\n   total_vaccinations_per_hundred  people_vaccinated_per_hundred  \\\n0                            0.00                           0.00   \n1                             NaN                            NaN   \n2                            0.00                           0.00   \n3                            0.01                           0.01   \n4                            0.01                           0.01   \n\n   people_fully_vaccinated_per_hundred  daily_vaccinations_per_million  \\\n0                                  NaN                             NaN   \n1                                  NaN                            22.0   \n2                                  NaN                            22.0   \n3                                  NaN                            22.0   \n4                                  NaN                            23.0   \n\n          vaccines  \n0  Pfizer/BioNTech  \n1  Pfizer/BioNTech  \n2  Pfizer/BioNTech  \n3  Pfizer/BioNTech  \n4  Pfizer/BioNTech  ",
      "text/html": "<div>\n<style scoped>\n    .dataframe tbody tr th:only-of-type {\n        vertical-align: middle;\n    }\n\n    .dataframe tbody tr th {\n        vertical-align: top;\n    }\n\n    .dataframe thead th {\n        text-align: right;\n    }\n</style>\n<table border=\"1\" class=\"dataframe\">\n  <thead>\n    <tr style=\"text-align: right;\">\n      <th></th>\n      <th>country</th>\n      <th>iso_code</th>\n      <th>date</th>\n      <th>total_vaccinations</th>\n      <th>people_vaccinated</th>\n      <th>people_fully_vaccinated</th>\n      <th>daily_vaccinations_raw</th>\n      <th>daily_vaccinations</th>\n      <th>total_vaccinations_per_hundred</th>\n      <th>people_vaccinated_per_hundred</th>\n      <th>people_fully_vaccinated_per_hundred</th>\n      <th>daily_vaccinations_per_million</th>\n      <th>vaccines</th>\n    </tr>\n  </thead>\n  <tbody>\n    <tr>\n      <th>0</th>\n      <td>Albania</td>\n      <td>ALB</td>\n      <td>2021-01-10</td>\n      <td>1.508878e+06</td>\n      <td>0.0</td>\n      <td>NaN</td>\n      <td>NaN</td>\n      <td>NaN</td>\n      <td>0.00</td>\n      <td>0.00</td>\n      <td>NaN</td>\n      <td>NaN</td>\n      <td>Pfizer/BioNTech</td>\n    </tr>\n    <tr>\n      <th>1</th>\n      <td>Albania</td>\n      <td>ALB</td>\n      <td>2021-01-11</td>\n      <td>1.508878e+06</td>\n      <td>NaN</td>\n      <td>NaN</td>\n      <td>NaN</td>\n      <td>64.0</td>\n      <td>NaN</td>\n      <td>NaN</td>\n      <td>NaN</td>\n      <td>22.0</td>\n      <td>Pfizer/BioNTech</td>\n    </tr>\n    <tr>\n      <th>2</th>\n      <td>Albania</td>\n      <td>ALB</td>\n      <td>2021-01-12</td>\n      <td>1.280000e+02</td>\n      <td>128.0</td>\n      <td>NaN</td>\n      <td>NaN</td>\n      <td>64.0</td>\n      <td>0.00</td>\n      <td>0.00</td>\n      <td>NaN</td>\n      <td>22.0</td>\n      <td>Pfizer/BioNTech</td>\n    </tr>\n    <tr>\n      <th>3</th>\n      <td>Albania</td>\n      <td>ALB</td>\n      <td>2021-01-13</td>\n      <td>1.880000e+02</td>\n      <td>188.0</td>\n      <td>NaN</td>\n      <td>60.0</td>\n      <td>63.0</td>\n      <td>0.01</td>\n      <td>0.01</td>\n      <td>NaN</td>\n      <td>22.0</td>\n      <td>Pfizer/BioNTech</td>\n    </tr>\n    <tr>\n      <th>4</th>\n      <td>Albania</td>\n      <td>ALB</td>\n      <td>2021-01-14</td>\n      <td>2.660000e+02</td>\n      <td>266.0</td>\n      <td>NaN</td>\n      <td>78.0</td>\n      <td>66.0</td>\n      <td>0.01</td>\n      <td>0.01</td>\n      <td>NaN</td>\n      <td>23.0</td>\n      <td>Pfizer/BioNTech</td>\n    </tr>\n  </tbody>\n</table>\n</div>"
     },
     "metadata": {},
     "output_type": "execute_result",
     "execution_count": 10
    }
   ],
   "source": [
    "data.head()"
   ]
  },
  {
   "cell_type": "code",
   "execution_count": 11,
   "metadata": {
    "pycharm": {
     "is_executing": false
    }
   },
   "outputs": [
    {
     "data": {
      "text/plain": "country                                   0\niso_code                                272\ndate                                      0\ntotal_vaccinations                        0\npeople_vaccinated                      1615\npeople_fully_vaccinated                2277\ndaily_vaccinations_raw                 1583\ndaily_vaccinations                      135\ntotal_vaccinations_per_hundred         1214\npeople_vaccinated_per_hundred          1615\npeople_fully_vaccinated_per_hundred    2277\ndaily_vaccinations_per_million          135\nvaccines                                  0\ndtype: int64"
     },
     "metadata": {},
     "output_type": "execute_result",
     "execution_count": 11
    }
   ],
   "source": [
    "data.isnull().sum()\n",
    "# проверим есть ли пропущенные значения"
   ]
  }
 ],
 "metadata": {
  "kernelspec": {
   "display_name": "Python 3",
   "language": "python",
   "name": "python3"
  },
  "language_info": {
   "codemirror_mode": {
    "name": "ipython",
    "version": 3
   },
   "file_extension": ".py",
   "mimetype": "text/x-python",
   "name": "python",
   "nbconvert_exporter": "python",
   "pygments_lexer": "ipython3",
   "version": "3.8.5"
  }
 },
 "nbformat": 4,
 "nbformat_minor": 4
}